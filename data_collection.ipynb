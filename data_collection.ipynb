{
 "cells": [
  {
   "cell_type": "code",
   "execution_count": 1,
   "id": "64ed316d-617c-49d9-87cf-45e374167c11",
   "metadata": {},
   "outputs": [],
   "source": [
    "import pybullet as p\n",
    "import csv\n",
    "import pandas as pd\n",
    "import pybullet_data\n",
    "import time, math, random\n",
    "import numpy as np\n",
    "import matplotlib.pyplot as plt\n",
    "p.connect(p.GUI)\n",
    "p.setAdditionalSearchPath(pybullet_data.getDataPath())"
   ]
  },
  {
   "cell_type": "code",
   "execution_count": 2,
   "id": "4092c267-ea6b-444f-b7a4-737b1ff01407",
   "metadata": {},
   "outputs": [
    {
     "data": {
      "text/plain": [
       "<matplotlib.image.AxesImage at 0x20f016dedd0>"
      ]
     },
     "execution_count": 2,
     "metadata": {},
     "output_type": "execute_result"
    },
    {
     "data": {
      "image/png": "[encoded data removed]",
      "text/plain": [
       "<Figure size 640x480 with 1 Axes>"
      ]
     },
     "metadata": {},
     "output_type": "display_data"
    }
   ],
   "source": [
    "p.resetSimulation()\n",
    "kinova = p.loadURDF('urdf/j2s6s300.urdf',\n",
    "                         basePosition=[0,0,0],\n",
    "                         baseOrientation=[0,0,0,1],\n",
    "                         globalScaling=1.0)\n",
    "\n",
    "homePos = [math.pi, math.pi, math.pi/2, math.pi, math.pi/2, math.pi]\n",
    "for i in range(6):\n",
    "    p.resetJointState(kinova, i+2, homePos[i])\n",
    "    p.changeDynamics(kinova, i+9, lateralFriction = 1, spinningFriction=1.0,\n",
    "                             rollingFriction=0.0001, frictionAnchor=True)\n",
    "    \n",
    "p.changeDynamics(kinova, 2, jointLowerLimit = -10*math.pi, jointUpperLimit = 10*math.pi)\n",
    "p.changeDynamics(kinova, 3, jointLowerLimit = 0.5*math.pi, jointUpperLimit = 1.5*math.pi)\n",
    "table = p.loadURDF('urdf/table.urdf', basePosition=[0.5, 0.5, -0.65])\n",
    "table2 = p.loadURDF('urdf/table.urdf', basePosition=[0.5, -0.5, -0.65])\n",
    "wall = p.createCollisionShape(p.GEOM_BOX, halfExtents = [0.7, 0.05, 0.4])\n",
    "barrier = p.createMultiBody(baseMass = 100, baseCollisionShapeIndex=wall, basePosition=[0.5, -0.35, 0.4])\n",
    "home_pos = [1, -0.6, 0.5]\n",
    "ball = p.createCollisionShape(p.GEOM_SPHERE, radius=0.03)\n",
    "red=p.createVisualShape(p.GEOM_BOX, halfExtents=[0.03, 0.03, 0.03], rgbaColor = [1, 0, 0, 1])\n",
    "blue=p.createVisualShape(p.GEOM_BOX, halfExtents=[0.03, 0.03, 0.03], rgbaColor = [0, 0, 1, 1])\n",
    "box = p.createCollisionShape(p.GEOM_BOX, halfExtents=[0.03, 0.03, 0.03])\n",
    "platform = p.createCollisionShape(p.GEOM_BOX, halfExtents = [0.5, 1, 0.15])\n",
    "#platform = p.createMultiBody(baseCollisionShapeIndex = platform, basePosition = [0.78, 0, 0.15])\n",
    "box1 = p.createMultiBody(baseMass = 0.5,baseCollisionShapeIndex = box, baseVisualShapeIndex = red, basePosition=home_pos)\n",
    "box2 = p.createMultiBody(baseMass = 0.5,baseCollisionShapeIndex = box, baseVisualShapeIndex = blue, basePosition=home_pos)\n",
    "#box3 = p.createMultiBody(baseMass = 0.5,baseCollisionShapeIndex = box, basePosition=[0.3, -0.3, 0.1])\n",
    "\n",
    "p.changeDynamics(box1, -1, lateralFriction = 1, spinningFriction=1, rollingFriction=0.0001, frictionAnchor=True)\n",
    "p.changeDynamics(box2, -1, lateralFriction = 1, spinningFriction=1, rollingFriction=0.0001, frictionAnchor=True)\n",
    "#p.changeDynamics(box3, -1, lateralFriction = 1, spinningFriction=1, rollingFriction=0.0001, frictionAnchor=True)\n",
    "\n",
    "\n",
    "p.setGravity(0, 0, -9.81)\n",
    "p.resetDebugVisualizerCamera(cameraDistance=1.5, cameraYaw=0, cameraPitch=-40, cameraTargetPosition=[0.55,-0.35,0.2])\n",
    "duck = p.loadURDF('duck_vhacd.urdf',\n",
    "                         basePosition=home_pos,\n",
    "                         baseOrientation=[0,0,0,1],\n",
    "                         globalScaling=1)\n",
    "mug = p.loadURDF('urdf/mug.urdf',\n",
    "                         basePosition=home_pos,\n",
    "                         baseOrientation=[0,0,0,1],\n",
    "                         globalScaling=0.8)\n",
    "sball = p.loadURDF('soccerball.urdf',\n",
    "                         basePosition=home_pos,\n",
    "                         baseOrientation=[0,0,0,1],\n",
    "                         globalScaling=0.09)\n",
    "ted = p.loadURDF('teddy_vhacd.urdf',\n",
    "                         basePosition=home_pos,\n",
    "                         baseOrientation=[0,0,0,1],\n",
    "                         globalScaling=1.2)\n",
    "lego = p.loadURDF('urdf/lego.urdf',\n",
    "                         basePosition=home_pos,\n",
    "                         baseOrientation=[0,0,0,1],\n",
    "                         globalScaling=2.7)\n",
    "bowl = p.loadURDF('urdf/bowl.urdf',\n",
    "                         basePosition=home_pos,\n",
    "                         baseOrientation=[0,0,0,1],\n",
    "                         globalScaling=0.7)\n",
    "\n",
    "p.changeDynamics(mug, -1, mass = 0.5, lateralFriction = 1, spinningFriction=1, rollingFriction=0.0001, frictionAnchor=True)\n",
    "p.changeDynamics(duck, -1, lateralFriction = 1, spinningFriction=1, rollingFriction=0.0001, frictionAnchor=True)\n",
    "p.changeDynamics(sball, -1, mass = 0.5, lateralFriction = 1, spinningFriction=1, rollingFriction=0.0001, frictionAnchor=True)\n",
    "p.changeDynamics(ted, -1, mass = 0.5, lateralFriction = 1, spinningFriction=1, rollingFriction=0.0001, frictionAnchor=True)\n",
    "p.changeDynamics(lego, -1, mass = 0.5, lateralFriction = 1, spinningFriction=1, rollingFriction=0.0001, frictionAnchor=True)\n",
    "p.changeDynamics(bowl, -1, mass = 0.2, lateralFriction = 1, spinningFriction=1, rollingFriction=0.0001, frictionAnchor=True)\n",
    "p.setRealTimeSimulation(1)\n",
    "def set_camera():\n",
    "    view_mtx = p.computeViewMatrixFromYawPitchRoll([0.4, 0.4, 0], 3, 180, -90, 0, 2)\n",
    "    proj_mtx = p.computeProjectionMatrixFOV(21, 1, 0.06, 10)\n",
    "    img = p.getCameraImage(135, 135, view_mtx, proj_mtx)\n",
    "    return img[2]\n",
    "plt.imshow(set_camera())"
   ]
  },
  {
   "cell_type": "code",
   "execution_count": 3,
   "id": "5cbd4f57-87f2-42b2-a408-90e7f6ecc6c6",
   "metadata": {},
   "outputs": [],
   "source": [
    "images = []\n",
    "xycoords = []\n",
    "objects = [duck, box1, box2, mug, sball, ted, lego, bowl]\n",
    "xmin, xmax = 0.1, 0.9\n",
    "ymin, ymax = 0.1, 0.9\n",
    "trials = 12000"
   ]
  },
  {
   "cell_type": "code",
   "execution_count": 4,
   "id": "749fe1db-ef97-4d1c-bb44-37b82c145aa6",
   "metadata": {},
   "outputs": [
    {
     "name": "stdout",
     "output_type": "stream",
     "text": [
      "631.2463383674622\n"
     ]
    }
   ],
   "source": [
    "start = time.time()\n",
    "for i in range(trials):\n",
    "    x = random.uniform(xmin, xmax)\n",
    "    y = random.uniform(ymin, ymax)\n",
    "    obj = random.randint(0, 7)\n",
    "    p.resetBasePositionAndOrientation(objects[obj], [x, y, 0.02], p.getQuaternionFromEuler([0.5*math.pi if obj == 0 else 0, 0, 0]))\n",
    "    img = set_camera()\n",
    "    xycoords.append([x, y])\n",
    "    images.append(img)\n",
    "    p.resetBasePositionAndOrientation(objects[obj], home_pos, p.getQuaternionFromEuler([0, 0, 0]))\n",
    "print(time.time()-start)"
   ]
  },
  {
   "cell_type": "code",
   "execution_count": 5,
   "id": "732bc4e7-8e57-494f-b60c-44ef035d9c05",
   "metadata": {},
   "outputs": [
    {
     "name": "stdout",
     "output_type": "stream",
     "text": [
      "(12000, 135, 135, 4) (12000, 2)\n"
     ]
    }
   ],
   "source": [
    "print(np.array(images).shape, np.array(xycoords).shape)"
   ]
  },
  {
   "cell_type": "code",
   "execution_count": 8,
   "id": "f7798bde-2b37-43e2-9a24-ec7e61d74161",
   "metadata": {},
   "outputs": [],
   "source": [
    "split = int(0.85*len(images))\n",
    "np.save(\"cnn/dataset/train_images\", np.array(images[:split]))\n",
    "np.save(\"cnn/dataset/test_images\", np.array(images[split:]))\n",
    "np.save(\"cnn/dataset/train_targets\", np.array(xycoords[:split]))\n",
    "np.save(\"cnn/dataset/test_targets\", np.array(xycoords[split:]))"
   ]
  },
  {
   "cell_type": "code",
   "execution_count": null,
   "id": "1ad857ac-3db7-4c18-bb59-63a8db7d89b6",
   "metadata": {},
   "outputs": [],
   "source": []
  }
 ],
 "metadata": {
  "kernelspec": {
   "display_name": "Python 3 (ipykernel)",
   "language": "python",
   "name": "python3"
  },
  "language_info": {
   "codemirror_mode": {
    "name": "ipython",
    "version": 3
   },
   "file_extension": ".py",
   "mimetype": "text/x-python",
   "name": "python",
   "nbconvert_exporter": "python",
   "pygments_lexer": "ipython3",
   "version": "3.10.11"
  }
 },
 "nbformat": 4,
 "nbformat_minor": 5
}
